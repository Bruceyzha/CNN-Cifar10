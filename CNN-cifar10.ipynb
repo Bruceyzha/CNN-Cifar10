{
  "nbformat": 4,
  "nbformat_minor": 0,
  "metadata": {
    "accelerator": "GPU",
    "colab": {
      "name": "project_3_template (1).ipynb",
      "provenance": [],
      "collapsed_sections": []
    },
    "kernelspec": {
      "display_name": "Python 3",
      "name": "python3"
    },
    "language_info": {
      "name": "python"
    }
  },
  "cells": [
    {
      "cell_type": "markdown",
      "metadata": {
        "id": "aWQZNpJgLAZC"
      },
      "source": [
        "# Project 3. Limited time training\n",
        "\n",
        " In project 3, you're going to improve your network under the limitation of time, specifically 10 minutes. You can borrow any structure that you consider viable, but pretrained models are **NOT allowed**.\n",
        "\n",
        "**Hint**: Most of the popular networks can't converge in 10 minutes, so if you decide to borrow any, you'd have to trim the network a little to fit into the time frame."
      ]
    },
    {
      "cell_type": "markdown",
      "metadata": {
        "id": "2vBi1AzTSoES"
      },
      "source": [
        "## 1. Preparation\n",
        "\n",
        "This project is time limited, we need to make sure that your hardwares are exactly the same, try the following code, if you see 'GPU correct, proceed.', you can continue the project, otherwise, click the dropdown at the upper right corner besides the status bar (RAM, Disk), and go to 'Manage sessions', and terminate the current session, then reconnect, and try the code again, repeat until you see the right message."
      ]
    },
    {
      "cell_type": "code",
      "metadata": {
        "colab": {
          "base_uri": "https://localhost:8080/"
        },
        "id": "I1uoQawsBsdD",
        "outputId": "5bce7242-3130-4054-d8ac-523ff911fa8f"
      },
      "source": [
        "!if [ $(nvidia-smi | grep Tesla | tr -s \" \" | cut -d' ' -f4) == 'T4' ]; then echo \"GPU correct, proceed.\"; else echo \"GPU incorrect, please terminate this session and reconnect again.\"; fi"
      ],
      "execution_count": null,
      "outputs": [
        {
          "output_type": "stream",
          "text": [
            "GPU correct, proceed.\n"
          ],
          "name": "stdout"
        }
      ]
    },
    {
      "cell_type": "markdown",
      "metadata": {
        "id": "NFg9DbPZU5s8"
      },
      "source": [
        "## 2. Before training\n",
        "\n",
        "For dataset, we continue to use CIFAR10, in this part, you can configure all of your settings, including data augmentation, model structure, optimizer etc., but don't put any major calculation part in."
      ]
    },
    {
      "cell_type": "markdown",
      "metadata": {
        "id": "sk--hkA1agMz"
      },
      "source": [
        "### 2.1 Dataset"
      ]
    },
    {
      "cell_type": "code",
      "metadata": {
        "colab": {
          "base_uri": "https://localhost:8080/"
        },
        "id": "GcyQM7qiLagn",
        "outputId": "71d324e7-3e20-4611-f3bf-78e7e814b14a"
      },
      "source": [
        "import torch\n",
        "import torch.nn as nn\n",
        "import torch.optim as optim\n",
        "import torchvision\n",
        "from torch.utils.data import DataLoader\n",
        "import numpy as np\n",
        "\n",
        "cifar10_train = torchvision.datasets.CIFAR10(\"CIFAR10\", train=True, transform=lambda x: np.array(x, dtype=np.float32).transpose(2,0,1),\n",
        "                                         target_transform=None, download=True)\n",
        "cifar10_test = torchvision.datasets.CIFAR10(\"CIFAR10\", train=False, transform=lambda x: np.array(x, dtype=np.float32).transpose(2,0,1),\n",
        "                                         target_transform=None, download=True)\n",
        "print(len(cifar10_train))"
      ],
      "execution_count": null,
      "outputs": [
        {
          "output_type": "stream",
          "text": [
            "Files already downloaded and verified\n",
            "Files already downloaded and verified\n",
            "50000\n"
          ],
          "name": "stdout"
        }
      ]
    },
    {
      "cell_type": "markdown",
      "metadata": {
        "id": "8vcCJYrGax4N"
      },
      "source": [
        "### 2.2 Model\n",
        "\n",
        "**Hint**: Even though pretrained models are not allowed in your final version, you can use pretrained models to determine how well the structure CAN perform and use this as part of your analysis as to determining network structure."
      ]
    },
    {
      "cell_type": "markdown",
      "metadata": {
        "id": "5pUWX3Ip3p9e"
      },
      "source": [
        "**Model definition**"
      ]
    },
    {
      "cell_type": "code",
      "metadata": {
        "id": "brj3qQkNLnlO"
      },
      "source": [
        "import torchvision.models\n",
        "import torch.nn.functional as F\n",
        "class MyNet(nn.Module):\n",
        "    def __init__(self):\n",
        "        super(MyNet,self).__init__()\n",
        "        self.conv1 = nn.Conv2d(3, 16, 3,padding = 1)\n",
        "        self.batch1 = nn.BatchNorm2d(16)\n",
        "        self.relu1 = nn.ReLU()\n",
        "        self.pool = nn.MaxPool2d(2, 2)\n",
        "        self.conv2 = nn.Conv2d(16, 64, 3,padding = 1)\n",
        "        self.batch2 = nn.BatchNorm2d(64)\n",
        "        self.conv3 = nn.Conv2d(64, 256, 3,padding = 1)\n",
        "        self.batch3 = nn.BatchNorm2d(256)\n",
        "        self.conv4 = nn.Conv2d(256, 512, 3,padding = 1)\n",
        "        self.batch4 = nn.BatchNorm2d(512)\n",
        "        self.conv5 = nn.Conv2d(512, 1024, 3,padding = 1)\n",
        "        self.batch5 = nn.BatchNorm2d(1024)\n",
        "        self.fc1 = nn.Linear(1024 * 1 * 1, 512)\n",
        "        self.fc2 = nn.Linear(512, 256)\n",
        "        self.fc3 = nn.Linear(256, 128)\n",
        "        self.out = nn.Linear(128, 10)#Output 10 classes\n",
        "\n",
        "    def forward(self, x):\n",
        "        x = self.pool(self.relu1(self.batch1(self.conv1(x))))\n",
        "        x = self.pool(self.relu1(self.batch2(self.conv2(x))))\n",
        "        x = self.pool(self.relu1(self.batch3(self.conv3(x))))\n",
        "        x = self.pool(self.relu1(self.batch4(self.conv4(x))))\n",
        "        x = self.pool(self.relu1(self.batch5(self.conv5(x))))\n",
        "        x = x.view(-1, 1024 * 1 * 1)\n",
        "        x = self.relu1(self.fc1(x))\n",
        "        x = self.relu1(self.fc2(x))\n",
        "        x = self.relu1(self.fc3(x))\n",
        "        x = self.out(x)\n",
        "        return x\n",
        "net = MyNet().cuda()"
      ],
      "execution_count": null,
      "outputs": []
    },
    {
      "cell_type": "markdown",
      "metadata": {
        "id": "HHUS2sSd3toa"
      },
      "source": [
        "**Analysis tools**"
      ]
    },
    {
      "cell_type": "code",
      "metadata": {
        "colab": {
          "base_uri": "https://localhost:8080/"
        },
        "id": "Sb_Ume_bHEr0",
        "outputId": "05d206a7-c6ed-4cc4-d04a-ab824e0a85a6"
      },
      "source": [
        "def testset_precision(net, testset):\n",
        "    net.eval()\n",
        "    dl = DataLoader(testset, batch_size=512)\n",
        "    total_count = 0\n",
        "    total_correct = 0\n",
        "    for data in dl:\n",
        "        inputs = data[0].cuda()\n",
        "        targets = data[1].cuda()\n",
        "        outputs = net(inputs)\n",
        "        predicted_labels = outputs.argmax(dim=1)\n",
        "        comparison = predicted_labels == targets\n",
        "        total_count += predicted_labels.size(0)\n",
        "        total_correct += comparison.sum()\n",
        "    net.train()   \n",
        "    return int(total_correct) / int(total_count)\n",
        "\n",
        "print(f'Inital precision: {testset_precision(net, cifar10_test)}')\n",
        "\n",
        "from IPython import display\n",
        "import matplotlib.pyplot as plt\n",
        "import time\n",
        "\n",
        "class DrawingBoard:\n",
        "    def __init__(self, names, time_slot=60):\n",
        "        self.start_time = time.time()\n",
        "        self.time_slot = time_slot\n",
        "        self.annotations = []\n",
        "        self.data = {}\n",
        "        for name in names:\n",
        "            self.data[name] = []\n",
        "    \n",
        "    def update(self, data_dict):\n",
        "        for key in data_dict:\n",
        "            self.data[key].append(data_dict[key])\n",
        "        current_time = time.time() - self.start_time\n",
        "        idx = len(self.data[key]) -1\n",
        "        if len(self.annotations) == 0:\n",
        "            if current_time > self.time_slot:\n",
        "                self.annotations.append((idx, current_time))\n",
        "        elif current_time - (self.annotations[-1][1]//self.time_slot)*self.time_slot > self.time_slot:\n",
        "            self.annotations.append((idx, current_time))\n",
        "    \n",
        "    def draw(self):\n",
        "        all_keys = list(self.data.keys())\n",
        "        fig, ax = plt.subplots(nrows=1, ncols=len(all_keys))\n",
        "        fig.set_figwidth(20)\n",
        "        for idx in range(len(all_keys)):\n",
        "            ax[idx].plot(self.data[all_keys[idx]])\n",
        "            ax[idx].set_title(all_keys[idx])\n",
        "            for an in self.annotations:\n",
        "                ax[idx].annotate(f'{int(an[1])}s', xy=(an[0], self.data[all_keys[idx]][an[0]]),\n",
        "                    xytext=(0, -40), textcoords=\"offset points\",\n",
        "                    va=\"center\", ha=\"left\",\n",
        "                    bbox=dict(boxstyle=\"round\", fc=\"w\"),\n",
        "                    arrowprops=dict(arrowstyle=\"->\"))\n",
        "        display.clear_output(wait=True)\n",
        "        plt.show()"
      ],
      "execution_count": null,
      "outputs": [
        {
          "output_type": "stream",
          "text": [
            "Inital precision: 0.0962\n"
          ],
          "name": "stdout"
        }
      ]
    },
    {
      "cell_type": "code",
      "metadata": {
        "id": "BgkJbvpOOa6m",
        "colab": {
          "base_uri": "https://localhost:8080/"
        },
        "outputId": "9ccc2f2e-983b-4d66-e8ab-27ff22b33f87"
      },
      "source": [
        "\n",
        "criterion = nn.CrossEntropyLoss()\n",
        "optimizer = optim.SGD(net.parameters(), lr=0.01,momentum=0.9)\n",
        "scheduler = torch.optim.lr_scheduler.StepLR(optimizer, step_size=3, gamma=0.90)\n",
        "dataloader = DataLoader(cifar10_train, batch_size=256, shuffle=True,num_workers = 4)"
      ],
      "execution_count": null,
      "outputs": [
        {
          "output_type": "stream",
          "text": [
            "/usr/local/lib/python3.7/dist-packages/torch/utils/data/dataloader.py:477: UserWarning: This DataLoader will create 4 worker processes in total. Our suggested max number of worker in current system is 2, which is smaller than what this DataLoader is going to create. Please be aware that excessive worker creation might get DataLoader running slow or even freeze, lower the worker number to avoid potential slowness/freeze if necessary.\n",
            "  cpuset_checked))\n"
          ],
          "name": "stderr"
        }
      ]
    },
    {
      "cell_type": "markdown",
      "metadata": {
        "id": "ZwkS_qPD3y6E"
      },
      "source": [
        "## 3. Start Training\n",
        "\n",
        "This is the training part, take advantage of everything you know. In addition to the tips last time, you can also consider data augmentation, short cut structure in ResNet etc.\n",
        "\n",
        "Basically at this point, nothing is limited except time and pretrained models."
      ]
    },
    {
      "cell_type": "code",
      "metadata": {
        "colab": {
          "base_uri": "https://localhost:8080/",
          "height": 316
        },
        "id": "ox4DiCIyP835",
        "outputId": "4c69553a-c0e2-4bca-bfd5-dee880801166"
      },
      "source": [
        "# modify as you need\n",
        "import time\n",
        "import signal\n",
        "class TimeLimitation:\n",
        "    def __init__(self, limit):\n",
        "        self.limit = limit\n",
        "\n",
        "    def __enter__(self):\n",
        "        def handler(signum, frame):\n",
        "            raise NotImplementedError('Time\\'s up')\n",
        "        signal.signal(signal.SIGALRM, handler)\n",
        "        signal.alarm(self.limit)\n",
        "\n",
        "    def __exit__(self, exc_type, exc_val, exc_tb):\n",
        "        signal.alarm(0)\n",
        "\n",
        "\n",
        "with TimeLimitation(600): # don't forget the indentation\n",
        "    print('start training')\n",
        "    db = DrawingBoard(['training_loss', 'testset_precision'], time_slot=60)\n",
        "    for epoch in range(20):\n",
        "        for iter, data in enumerate(dataloader):\n",
        "            inputs = data[0].cuda()\n",
        "            targets = data[1].cuda()\n",
        "            outputs = net(inputs)\n",
        "\n",
        "            optimizer.zero_grad()\n",
        "            loss = criterion(outputs, targets)\n",
        "            loss.backward()\n",
        "            optimizer.step()\n",
        "\n",
        "            if iter % 20 == 0:\n",
        "                db.update({'training_loss':loss.item(), 'testset_precision': testset_precision(net, cifar10_test)})\n",
        "                db.draw()\n",
        "        scheduler.step()\n",
        "\n",
        "    print('finished')"
      ],
      "execution_count": null,
      "outputs": [
        {
          "output_type": "display_data",
          "data": {
            "image/png": "[encoded data removed]",
            "text/plain": [
              "<Figure size 1440x288 with 2 Axes>"
            ]
          },
          "metadata": {
            "tags": [],
            "needs_background": "light"
          }
        },
        {
          "output_type": "stream",
          "text": [
            "finished\n"
          ],
          "name": "stdout"
        }
      ]
    },
    {
      "cell_type": "markdown",
      "metadata": {
        "id": "WST0cHoKPZ02"
      },
      "source": [
        "# Marking Scheme\n",
        "\n",
        "*   Code implementation: 30%\n",
        "\n",
        "\n",
        "> * Successfully run through the whole project: 10%\n",
        "> * Code implementation quality: 20% (including performance)\n",
        "\n",
        "*   PDF report: 50%\n",
        "\n",
        "> * Overview, introduction to the network structure etc.: 10%\n",
        "> * Analysis and improvements: 40%\n",
        "\n",
        "*   Presentation: 20%\n",
        "\n",
        "> * Overall demonstration: 10%\n",
        "> * Unfolding analysis: 10%"
      ]
    }
  ]
}